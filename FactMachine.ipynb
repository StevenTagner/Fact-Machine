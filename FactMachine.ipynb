{
 "cells": [
  {
   "cell_type": "code",
   "execution_count": 209,
   "id": "3b0cf12b",
   "metadata": {},
   "outputs": [],
   "source": [
    "import wikipediaapi\n",
    "from gtts import gTTS\n",
    "import os\n",
    "import random\n",
    "import pandas as pd \n",
    "import time\n"
   ]
  },
  {
   "cell_type": "code",
   "execution_count": null,
   "id": "88cd59cc",
   "metadata": {},
   "outputs": [],
   "source": [
    "titles = pd.read_table(r'C:\\Users\\steve\\Desktop\\General\\programsMisc\\FactMachine\\enwiki-latest-all-titles-in-ns0')"
   ]
  },
  {
   "cell_type": "code",
   "execution_count": 227,
   "id": "4d2f5f27",
   "metadata": {},
   "outputs": [],
   "source": [
    "wiki_wiki = wikipediaapi.Wikipedia('en')\n",
    "\n",
    "\n",
    "def fact_machine(sections):\n",
    "    tts(sections.summary.split(\".\")[0])\n",
    "    \n",
    "def tts(TheFact):\n",
    "    language = 'en'\n",
    "    myobj = gTTS(text=TheFact, lang=language, tld = 'com.au', slow=False)\n",
    "    myobj.save(\"Fact.mp3\")\n",
    "    os.system(\"start Fact.mp3\")\n"
   ]
  },
  {
   "cell_type": "code",
   "execution_count": 251,
   "id": "e8d1f960",
   "metadata": {
    "scrolled": false
   },
   "outputs": [
    {
     "name": "stdout",
     "output_type": "stream",
     "text": [
      "8351572  -  Keep_on_Lovin'\n"
     ]
    }
   ],
   "source": [
    "i = 0;\n",
    "while i < 1:    \n",
    "    index = random.randint(0,16897411)\n",
    "    \n",
    "    currSelection = titles['!'][index]\n",
    "    \n",
    "    print(index, \" - \", currSelection)\n",
    "    \n",
    "    page_py = wiki_wiki.page(currSelection)\n",
    "\n",
    "    fact_machine(page_py)\n",
    "    \n",
    "    time.sleep(30)\n",
    "    \n",
    "    i = i + 1\n",
    "    "
   ]
  },
  {
   "cell_type": "code",
   "execution_count": null,
   "id": "eb5cadb9",
   "metadata": {},
   "outputs": [],
   "source": []
  },
  {
   "cell_type": "code",
   "execution_count": 236,
   "id": "82a2cc92",
   "metadata": {},
   "outputs": [
    {
     "name": "stdout",
     "output_type": "stream",
     "text": [
      "Mimi_Ajzenstadt\n",
      "Mimi Ajzenstadt (מימי אייזנשטדט; born September 24, 1956) is an Israeli criminologist who was named the Mildred and Benjamin Berger Chair in Criminology at The Hebrew University of Jerusalem, and is the President of the Open University of Israel\n"
     ]
    },
    {
     "data": {
      "text/plain": [
       "'Mimi Ajzenstadt (מימי אייזנשטדט; born September 24, 1956) is an Israeli criminologist who was named the Mildred and Benjamin Berger Chair in Criminology at The Hebrew University of Jerusalem, and is the President of the Open University of Israel.'"
      ]
     },
     "execution_count": 236,
     "metadata": {},
     "output_type": "execute_result"
    }
   ],
   "source": [
    "name = titles['!'][10326889]\n",
    "\n",
    "page_py = wiki_wiki.page(name)\n",
    "\n",
    "print(name)\n",
    " \n",
    "print(page_py.summary.split(\".\")[0])\n",
    "\n",
    "\n",
    "page_py.summary"
   ]
  }
 ],
 "metadata": {
  "kernelspec": {
   "display_name": "Python 3 (ipykernel)",
   "language": "python",
   "name": "python3"
  },
  "language_info": {
   "codemirror_mode": {
    "name": "ipython",
    "version": 3
   },
   "file_extension": ".py",
   "mimetype": "text/x-python",
   "name": "python",
   "nbconvert_exporter": "python",
   "pygments_lexer": "ipython3",
   "version": "3.9.7"
  }
 },
 "nbformat": 4,
 "nbformat_minor": 5
}
