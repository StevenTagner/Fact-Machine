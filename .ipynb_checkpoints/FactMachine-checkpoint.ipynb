{
 "cells": [
  {
   "cell_type": "code",
   "execution_count": 195,
   "id": "7e365d96",
   "metadata": {},
   "outputs": [],
   "source": [
    "import wikipediaapi\n",
    "from gtts import gTTS\n",
    "import os\n",
    "import random\n",
    "import pandas as pd \n",
    "import time"
   ]
  },
  {
   "cell_type": "code",
   "execution_count": 185,
   "id": "f03fb70a",
   "metadata": {},
   "outputs": [],
   "source": [
    "wiki_wiki = wikipediaapi.Wikipedia('en')\n",
    "titles = pd.read_table(r'C:\\Users\\steve\\Desktop\\General\\programsMisc\\FactMachine\\enwiki-latest-all-titles-in-ns0')\n",
    "\n",
    "def fact_machine(sections):\n",
    "    tts(sections.summary.split(\".\")[0])\n",
    "    \n",
    "def tts(TheFact):\n",
    "    language = 'en'\n",
    "    myobj = gTTS(text=TheFact, lang=language, slow=False)\n",
    "    myobj.save(\"Fact.mp3\")\n",
    "    os.system(\"start Fact.mp3\")\n"
   ]
  },
  {
   "cell_type": "code",
   "execution_count": 201,
   "id": "6b7f7b26",
   "metadata": {
    "scrolled": false
   },
   "outputs": [
    {
     "name": "stdout",
     "output_type": "stream",
     "text": [
      "16620790\n",
      "16806981\n",
      "1204486\n",
      "11648784\n",
      "10743181\n"
     ]
    }
   ],
   "source": [
    "i = 0;\n",
    "while i < 5:    \n",
    "    index = random.randint(0,16897411)\n",
    "    print(index)\n",
    "    currSelection = titles['!'][index]\n",
    "    \n",
    "    page_py = wiki_wiki.page(currSelection)\n",
    "\n",
    "    fact_machine(page_py)\n",
    "    \n",
    "    time.sleep(20)\n",
    "    \n",
    "    i = i + 1\n",
    "    "
   ]
  },
  {
   "cell_type": "code",
   "execution_count": 203,
   "id": "e2466cd9",
   "metadata": {},
   "outputs": [
    {
     "name": "stdout",
     "output_type": "stream",
     "text": [
      "Yom-Tob_ben_Solomon_Lipmann-Mülhausen\n"
     ]
    },
    {
     "data": {
      "text/plain": [
       "'Yom-Tov Lipmann ben Solomon Muhlhausen (Hebrew: יום טוב ליפמן מילהאוזן) was a controversial Talmudist, kabalist and philosopher of the 14th and 15th centuries (birth date unknown, died later than 1420)'"
      ]
     },
     "execution_count": 203,
     "metadata": {},
     "output_type": "execute_result"
    }
   ],
   "source": [
    "name = titles['!'][16620790]\n",
    "\n",
    "page_py = wiki_wiki.page(name)\n",
    "\n",
    "print(name)\n",
    "\n",
    "page_py.summary.split(\".\")[0]\n"
   ]
  }
 ],
 "metadata": {
  "kernelspec": {
   "display_name": "Python 3 (ipykernel)",
   "language": "python",
   "name": "python3"
  },
  "language_info": {
   "codemirror_mode": {
    "name": "ipython",
    "version": 3
   },
   "file_extension": ".py",
   "mimetype": "text/x-python",
   "name": "python",
   "nbconvert_exporter": "python",
   "pygments_lexer": "ipython3",
   "version": "3.9.7"
  }
 },
 "nbformat": 4,
 "nbformat_minor": 5
}
